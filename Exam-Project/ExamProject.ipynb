{
 "cells": [
  {
   "cell_type": "markdown",
   "metadata": {},
   "source": [
    "##### *Python libraries used in this notebook*"
   ]
  },
  {
   "cell_type": "code",
   "execution_count": 1,
   "metadata": {},
   "outputs": [],
   "source": [
    "%matplotlib inline\n",
    "import control.matlab as control\n",
    "from ipywidgets import interact, fixed\n",
    "import matplotlib.pyplot as plt\n",
    "import numpy as np"
   ]
  },
  {
   "cell_type": "markdown",
   "metadata": {},
   "source": [
    "# PID controller"
   ]
  },
  {
   "cell_type": "markdown",
   "metadata": {},
   "source": [
    "## Tuning of PID controller using Ziegler-Nichols method"
   ]
  },
  {
   "cell_type": "markdown",
   "metadata": {},
   "source": [
    "### *Abstract*\n",
    "This notebook demonstrates а tuning of a PID controller using Ziegler-Nichols method."
   ]
  },
  {
   "cell_type": "markdown",
   "metadata": {},
   "source": [
    "### *Table of contents*\n",
    "1. Description of a control systems\n",
    "2. Description of a control loop\n",
    "    1. Open loop control\n",
    "    2. Closed loop control\n",
    "3. Introduction of PID controller\n",
    "    1. PID controller theory\n",
    "        1. Proportional component\n",
    "        2. Integral component\n",
    "        3. Derivative component \n",
    "        4. PID Algorithms\n",
    "        5. Laplace domain transfer functions \n",
    "    2. Tuning methods\n"
   ]
  },
  {
   "cell_type": "markdown",
   "metadata": {},
   "source": [
    "### *1. Description of a control systems*\n",
    "A **control system** is a system that provides the desired response by controlling the output. Explained in another way, this is a set of mechanical and electronic devices which regulate, manage, and command other devices or systems using control loops. The following figure shows the simple block diagram of a control system.\n",
    "\n",
    "<img src=\"imgs\\ControlSystemBlockDiagram.jpg\" width=500 hight=500 />\n",
    "\n",
    "Controls are classified with respect to:\n",
    "> - technique involved to perform control (i.e. human/machines): manual/automatic control\n",
    "> - creation of control system (i.e. natural / manmade): natural/ manmade /combinational\n",
    "control\n",
    "> - Time dependence of output variable (i.e. constant/changing): regulator/servo, (also known as\n",
    "regulating/tracking control)\n",
    "> - Time-type control (Continuous/ discrete): Continuous/Discrete time control\n",
    "> - Linearity of the control system (linear/nonlinear): Linear/nonlinear control system\n",
    "> - Based on the number of input output (SISO, MISO) system\n",
    "> - fundamental structure / configuration of the control (i.e. the information used for computing the\n",
    "control): open loop/feedback control, (also known as open loop/closed loop control)\n",
    "    \n",
    "This definition makes sense if you know what a **control loop** is, so let's define what is a control loop in the next cell."
   ]
  },
  {
   "cell_type": "markdown",
   "metadata": {},
   "source": [
    "### 2. *Description of a control loop*\n",
    "A **control loop** is the configuration of the control system. This configuration consists of all the physical components and control functions needed to adjust or maintain the value of a measured process variable **(PV)** to your desired value, or setpoint **(SP)**. To do this, your loop needs at least three basic elements – an input, a controller, and an output. The following figures show some process control loops in modern industrial automation.\n",
    "\n",
    "<img src=\"imgs\\ControlLoopExample.jpg\" width=1000 hight=800 />\n",
    "\n",
    "There are two types of control loops: \n",
    "> - Open loop control\n",
    "> - Closed loop control\n",
    "\n",
    "Let's look at the two types in the next cells."
   ]
  },
  {
   "cell_type": "markdown",
   "metadata": {},
   "source": [
    "### *2.A. Open loop control*\n",
    "An open loop control is applied to achieve the desired system response using a controller or an actuator without feedback. This means that the оpen loop systems do not monitor or correct the output for disturbances. The desired process response is applied to a controller and it produces an actuating signal or controlling signal (output). This signal is given as an input to a plant or process which is to be controlled. So, the plant produces an output, which is controlled. The following figure shows the simple block diagram of a control system.\n",
    "\n",
    "<img src=\"imgs\\OpenLoop.jpg\" width=600 hight=600 />\n",
    "\n",
    "Advantages of open Loop control:\n",
    "> - These systems are simple in construction and design.\n",
    "> - These systems are economical.\n",
    "> - These systems are easy from a maintenance point of view.\n",
    "> - Usually, these systems are not much troubled with problems of stability.\n",
    "> - These systems are convenient to use when output is difficult to measure.\n",
    "\n",
    "Disadvantages of open loop control:\n",
    "> - These systems are not accurate and reliable because of their accuracy depends on the accuracy of\n",
    "the calibration.\n",
    "> - In these systems, inaccuracy results are obtained with parameter variations i.e. internal\n",
    "disturbances.\n",
    "> - Recalibration of the controller is required from time to time for maintaining quality and accuracy."
   ]
  },
  {
   "cell_type": "markdown",
   "metadata": {},
   "source": [
    "### *2.B. Closed loop control*\n",
    "A closed loop control is used to achieve the desired system response using a controller with the output measurement as a feedback signal. The use of feedback enables us to improve system performance at the cost of introducing the measurement noise and stability problem. This means that the closed loop systems monitor the output and compare it to the input. If an error is detected, the system corrects the output and hence corrects the effects of disturbances. The following figure shows the simple block diagram of a control system.\n",
    "\n",
    "<img src=\"imgs\\ClosedLoop.jpg\" width=500 hight=500 />\n",
    "\n",
    "Advantages of closed loop control:\n",
    "> - In these systems, accuracy is very high due to the correction of any arising error.\n",
    "> - Since these systems sense environmental changes as well as internal disturbances, the errors are\n",
    "modified.\n",
    "> - There is a reduced effect of nonlinearity in these systems.\n",
    "> - Systems have high bandwidth i.e. high operating frequency zone.\n",
    "> - There are facilities for automation in these systems.\n",
    "\n",
    "Disadvantages of closed loop control:\n",
    "> - Systems are complicated in design and, hence, costlier.\n",
    "> - Systems may be unstable.\n",
    "\n",
    "After we already know what a control system is and what types of configurations it has, maybe it is time to understand what mechanisms (methods) we use in modern process industrial automation. Let's look at what a PID controller is in the following cells."
   ]
  },
  {
   "cell_type": "markdown",
   "metadata": {},
   "source": [
    "### *3. Introduction of PID controller*\n",
    "A **Proportional-Integral-Derivative controller (PID controller)** is a control loop feedback mechanism widely used in industrial control systems. A PID controller calculates an error value as the difference between a measured process variable and a desired setpoint. The controller attempts to minimize the error by adjusting the process through use of a manipulated variable. The following image shows the simple block diagram of a control system.\n",
    "\n",
    "<img src=\"imgs\\PIDControllers.jpg\" width=500 hight=500 />\n",
    "\n",
    "The PID controller algorithm involves three separate constant parameters, and is accordingly sometimes called **three-term control**: the proportional, the integral and derivative values, denoted **P**, **I**, and **D**. Simply put, these values can be interpreted in terms of time: **P** depends on the ***present*** error, **I** on the accumulation of ***past*** errors, and **D** is a prediction of ***future*** errors, based on current rate of change. The weighted sum of these three actions is used to adjust the process via a control element such as the position of a control valve, a damper, or the power supplied to a heating element.\n",
    "\n",
    "In the absence of knowledge of the underlying process, a PID controller has historically been considered to be the most useful controller. By tuning the three parameters in the PID controller algorithm, the controller can provide control action designed for specific process requirements. The response of the controller can be described in terms of the responsiveness of the controller to an error, the degree to which the controller overshoots the setpoint, and the degree of system oscillation. Note that the use of the PID algorithm for control does not guarantee optimal control of the system or system stability.\n",
    "\n",
    "Some applications may require using only one or two actions to provide the appropriate system control. This is achieved by setting the other parameters to zero. A PID controller will be called a **P**, **PI** or **PD** controller in the absence of the respective control actions. PI controllers are fairly common, since derivative action is sensitive to measurement noise, whereas the absence of an integral term may prevent the system from reaching its target value due to the control action.\n",
    "\n",
    "Let's see  the fundamentals behind the design of every PID controller."
   ]
  },
  {
   "cell_type": "markdown",
   "metadata": {},
   "source": [
    "### *3.A. PID controller theory*"
   ]
  },
  {
   "cell_type": "markdown",
   "metadata": {},
   "source": [
    "### *3.A.a. Proportional component*"
   ]
  },
  {
   "cell_type": "markdown",
   "metadata": {},
   "source": [
    "### *3.A.b. Integral component*"
   ]
  },
  {
   "cell_type": "markdown",
   "metadata": {},
   "source": [
    "### *3.A.c. Derivative component*"
   ]
  },
  {
   "cell_type": "markdown",
   "metadata": {},
   "source": [
    "### *3.A.d. PID Algorithms*"
   ]
  },
  {
   "cell_type": "markdown",
   "metadata": {},
   "source": [
    "### *3.A.e. Laplace domain transfer functions*"
   ]
  },
  {
   "cell_type": "markdown",
   "metadata": {},
   "source": [
    "### *3.B. Tuning methods*"
   ]
  },
  {
   "cell_type": "code",
   "execution_count": null,
   "metadata": {},
   "outputs": [],
   "source": []
  }
 ],
 "metadata": {
  "kernelspec": {
   "display_name": "Python 3",
   "language": "python",
   "name": "python3"
  },
  "language_info": {
   "codemirror_mode": {
    "name": "ipython",
    "version": 3
   },
   "file_extension": ".py",
   "mimetype": "text/x-python",
   "name": "python",
   "nbconvert_exporter": "python",
   "pygments_lexer": "ipython3",
   "version": "3.8.5"
  }
 },
 "nbformat": 4,
 "nbformat_minor": 4
}
