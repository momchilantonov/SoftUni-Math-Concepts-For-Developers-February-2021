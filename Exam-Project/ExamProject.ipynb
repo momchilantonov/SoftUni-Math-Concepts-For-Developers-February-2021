{
 "cells": [
  {
   "cell_type": "markdown",
   "metadata": {},
   "source": [
    "##### *Python libraries used in this notebook*"
   ]
  },
  {
   "cell_type": "code",
   "execution_count": 1,
   "metadata": {},
   "outputs": [],
   "source": [
    "%matplotlib inline\n",
    "import matplotlib.pyplot as plt\n",
    "import numpy as np\n",
    "import ipywidgets as wg\n",
    "from IPython.display import display\n",
    "from scipy.integrate import odeint"
   ]
  },
  {
   "cell_type": "markdown",
   "metadata": {},
   "source": [
    "# PID control"
   ]
  },
  {
   "cell_type": "markdown",
   "metadata": {},
   "source": [
    "## Interactive simulation of PID controller tuning"
   ]
  },
  {
   "cell_type": "markdown",
   "metadata": {},
   "source": [
    "### Abstract\n",
    "This notebook demonstrates а tuning of a PID controller using Ziegler-Nichols method.\n",
    "\n",
    "TODO:"
   ]
  },
  {
   "cell_type": "markdown",
   "metadata": {},
   "source": [
    "### Table of Contents\n",
    "\n",
    "* [1. Description of Control System](#chapter1)\n",
    "    * [1.1. Description of Control Loop](#section_1_1)\n",
    "        * [1.1.1. Open Loop Control System](#section_1_1_1)\n",
    "        * [1.1.2. Closed Loop Control System](#section_1_1_2)\n",
    "* [2. PID Controller introduction](#chapter2)\n",
    "    * [2.1. PID Controller theory](#section_2_1)\n",
    "        * [2.1.1. Interactive algorithm](#section_2_1_1)\n",
    "        * [2.1.2. Noninteractive algorithm](#section_2_1_2)\n",
    "        * [2.1.3. Parallel algorithm](#section_2_1_3)\n",
    "    * [2.2. PID Controller terms](#section_2_2)\n",
    "        * [2.2.1. Proportional term ](#section_2_2_1)\n",
    "        * [2.2.2. Integral component](#section_2_2_2)\n",
    "        * [2.2.3. Derivative component](#section_2_2_3)\n",
    "    * [2.3. PID Controller tuning methods](#section_2_3)\n",
    "        * [2.3.1. Ziegler-Nichols Method](#section_2_3_1)\n",
    "        * [2.3.2. Cohen-Coon Method](#section_2_3_2)\n",
    "        * [2.3.3. Tyreus-Luyben Method](#section_2_3_3)\n",
    "        * [2.3.4. Lambda Method](#section_2_3_4)\n",
    "    * [2.4. Dynamic process response - FOPDT model](#section_2_4)\n",
    "        * [2.4.1. Interactive simulation - FOPDT model](#section_2_4_1)\n",
    "* [3. Interactive simulations of PID controller tuning](#chapter3)\n",
    "    * [3.1. P control tuning](#section_3_1)\n",
    "    * [3.2. PI control tuning](#section_3_2)\n",
    "    * [3.3. PID control tuning](#section_3_3)\n",
    "* [4. Conclusion](#chapter4)\n",
    "        \n",
    "\n"
   ]
  },
  {
   "cell_type": "markdown",
   "metadata": {},
   "source": [
    "### 1. Description of Control System <a class=\"anchor\" id=\"chapter1\"></a>\n",
    "A **Control System** is a system that provides the desired response by controlling the output. Explained in another way, this is a set of mechanical and electronic devices which regulate, manage, and command other devices or systems using control loops. The following figure shows the simple block diagram of a control system.\n",
    "\n",
    "<img src=\"./imgs/ControlSystemBlockDiagram.JPG\" width=\"500\" />\n",
    "\n",
    "Controls are classified with respect to:\n",
    "> - technique involved to perform control (i.e. human/machines): manual/automatic control\n",
    "> - creation of control system (i.e. natural / manmade): natural/ manmade /combinational\n",
    "control\n",
    "> - Time dependence of output variable (i.e. constant/changing): regulator/servo, (also known as\n",
    "regulating/tracking control)\n",
    "> - Time-type control (Continuous/ discrete): Continuous/Discrete time control\n",
    "> - Linearity of the control system (linear/nonlinear): Linear/nonlinear control system\n",
    "> - Based on the number of input output (SISO, MISO) system\n",
    "> - fundamental structure / configuration of the control (i.e. the information used for computing the\n",
    "control): open loop/feedback control, (also known as open loop/closed loop control)\n",
    "    \n",
    "This definition makes sense if you know what a **Control Loop** is, so let's define what is a control loop."
   ]
  },
  {
   "cell_type": "markdown",
   "metadata": {},
   "source": [
    "### 1.1. Description of Control Loop <a class=\"anchor\" id=\"section_1_1\"></a>\n",
    "A **Control Loop** is the configuration of the control system. This configuration consists of all the physical components and control functions needed to adjust or maintain the value of a measured process variable $PV$ to your desired value, or setpoint $SP$. To do this, your loop needs at least three basic elements – an input, a controller, and an output. The following figures show some process control loops in modern industrial automation.\n",
    "\n",
    "<img src=\".\\imgs\\ControlLoopExample.jpg\" width=1000 hight=800 />\n",
    "\n",
    "There are two types of control loops: \n",
    "> - Open Loop\n",
    "> - Closed Loop\n",
    "\n",
    "Let's look at these two types."
   ]
  },
  {
   "cell_type": "markdown",
   "metadata": {},
   "source": [
    "### 1.1.1. Open Loop Control System <a class=\"anchor\" id=\"section_1_1_1\"></a>\n",
    "An **Open Loop Control System** is applied to achieve the desired system response using a controller or an actuator without feedback. This means that the оpen loop systems do not monitor or correct the output for disturbances. The desired process response is applied to a controller and it produces an actuating signal or controlling signal (output). This signal is given as an input to a plant or process which is to be controlled. So, the plant produces an output, which is controlled. The following figure shows the simple block diagram of a control system.\n",
    "\n",
    "<img src=\".\\imgs\\OpenLoop.jpg\" width=600 hight=600 />\n",
    "\n",
    "Advantages of open Loop control:\n",
    "> - These systems are simple in construction and design.\n",
    "> - These systems are economical.\n",
    "> - These systems are easy from a maintenance point of view.\n",
    "> - Usually, these systems are not much troubled with problems of stability.\n",
    "> - These systems are convenient to use when output is difficult to measure.\n",
    "\n",
    "Disadvantages of open loop control:\n",
    "> - These systems are not accurate and reliable because of their accuracy depends on the accuracy of\n",
    "the calibration.\n",
    "> - In these systems, inaccuracy results are obtained with parameter variations i.e. internal\n",
    "disturbances.\n",
    "> - Recalibration of the controller is required from time to time for maintaining quality and accuracy."
   ]
  },
  {
   "cell_type": "markdown",
   "metadata": {},
   "source": [
    "### 1.1.2. Closed Loop Control System <a class=\"anchor\" id=\"section_1_1_2\"></a>\n",
    "A **Closed Loop Control System** is used to achieve the desired system response using a controller with the output measurement as a feedback signal. The use of feedback enables us to improve system performance at the cost of introducing the measurement noise and stability problem. This means that the closed loop systems monitor the output and compare it to the input. If an error is detected, the system corrects the output and hence corrects the effects of disturbances. The following figure shows the simple block diagram of a control system.\n",
    "\n",
    "<img src=\".\\imgs\\ClosedLoop.jpg\" width=500 hight=500 />\n",
    "\n",
    "Advantages of closed loop control:\n",
    "> - In these systems, accuracy is very high due to the correction of any arising error.\n",
    "> - Since these systems sense environmental changes as well as internal disturbances, the errors are\n",
    "modified.\n",
    "> - There is a reduced effect of nonlinearity in these systems.\n",
    "> - Systems have high bandwidth i.e. high operating frequency zone.\n",
    "> - There are facilities for automation in these systems.\n",
    "\n",
    "Disadvantages of closed loop control:\n",
    "> - Systems are complicated in design and, hence, costlier.\n",
    "> - Systems may be unstable.\n",
    "\n",
    "After we already know what a control system is and what types of configurations it has, maybe it is time to understand what mechanisms we use in modern process industrial automation. Let's look at what a PID controller is."
   ]
  },
  {
   "cell_type": "markdown",
   "metadata": {},
   "source": [
    "### 2. PID Controller introduction <a class=\"anchor\" id=\"chapter2\"></a>\n",
    "A **Proportional-Integral-Derivative Controller (PID Controller)** is a control loop feedback mechanism widely used in industrial control systems. A PID controller calculates an error value as the difference between a measured process variable and a desired setpoint. The controller attempts to minimize the error by adjusting the process through use of a manipulated variable. The following photos show PID controllers used in the industry\n",
    "\n",
    "<img src=\".\\imgs\\PIDControllers.jpg\" width=500 hight=500 />\n",
    "\n",
    "The PID controller algorithm involves three separate constant parameters, and is accordingly sometimes called **three-term control**: the proportional, the integral and derivative values, denoted $P$, $I$, and $D$. Simply put, these values can be interpreted in terms of time: $P$ depends on the ***present*** error, $I$ on the accumulation of ***past*** errors, and $D$ is a prediction of ***future*** errors, based on current rate of change. The weighted sum of these three actions is used to adjust the process via a control element such as the position of a control valve, a damper, or the power supplied to a heating element.\n",
    "\n",
    "In the absence of knowledge of the underlying process, a PID controller has historically been considered to be the most useful controller. By tuning the three parameters in the PID controller algorithm, the controller can provide control action designed for specific process requirements. The response of the controller can be described in terms of the responsiveness of the controller to an error, the degree to which the controller overshoots the setpoint, and the degree of system oscillation. Note that the use of the PID algorithm for control does not guarantee optimal control of the system or system stability.\n",
    "\n",
    "Some applications may require using only one or two actions to provide the appropriate system control. This is achieved by setting the other parameters to zero. A PID controller will be called a $P$, $PI$, $PD$ or $PID$ controller in the absence of the respective control actions. $PI$ controllers are fairly common, since derivative action is sensitive to measurement noise, whereas the absence of an integral term may prevent the system from reaching its target value due to the control action.\n",
    "\n",
    "Let's see  the fundamentals behind the design of every PID controller."
   ]
  },
  {
   "cell_type": "markdown",
   "metadata": {},
   "source": [
    "### 2.1. PID Controller theory <a class=\"anchor\" id=\"section_2_1\"></a>\n",
    "PID **Control Theory** is a branch of mathematics and engineering with the purpose of modifying the behavior of a dynamic system with input (e.g. input from a temperature sensor) that changes over time. The main objective of control theory is stability. Usually, (in closed loop systems) stability is achieved by continually taking measurements and making adjustments to the system.\n",
    "\n",
    "The PID control scheme is named after its three correcting terms, whose sum constitutes the manipulated variable $MV$. The proportional, integral, and derivative terms are summed to calculate the output of the PID controller. Controller manufacturers arrange the Proportional, Integral, and Derivative modes into three different controller algorithms or controller structures. These are called Interactive, Noninteractive, and Parallel algorithms. Some controller manufacturers allow you to choose between different controller algorithms as a configuration option in the controller software. The PID Algorithms are:"
   ]
  },
  {
   "cell_type": "markdown",
   "metadata": {},
   "source": [
    "### 2.1.1. Interactive algorithm <a class=\"anchor\" id=\"section_2_1_1\"></a>\n",
    "The oldest controller algorithm is called the Series, Classical, Real or Interactive algorithm.  The original pneumatic and electronic controllers had this algorithm and it is still found it in many controllers today.  The Ziegler-Nichols PID tuning rules were developed for this controller algorithm.\n",
    "\n",
    "<img src=\".\\imgs\\series.png\" width=600 hight=600 />\n",
    "\n",
    "$$\\large{u(t) = K_c \\left[ e(t) + \\frac{1}{T_i}\\int_0^t e(\\tau)\\ d\\tau\\right] + \\left[1 + T_d\\frac{d}{dt} e(t)\\right]\\tag{1}}$$\n",
    "\n",
    "**Where:**\n",
    "\n",
    "$u(t)$ - Controller output\n",
    "\n",
    "$T_i$ - Integral time\n",
    "\n",
    "$T_d$ - Derivative time\n",
    "\n",
    "$K_c$ - Controller gain\n",
    "\n",
    "$e(t) = SP - PV$ - Control error, which is the difference between the desired process value, and the measured process value"
   ]
  },
  {
   "cell_type": "markdown",
   "metadata": {},
   "source": [
    "### 2.1.2. Noninteractive algorithm <a class=\"anchor\" id=\"section_2_1_2\"></a>\n",
    "The Noninteractive algorithm is also called the Ideal, Standard or ISA algorithm. The Cohen-Coon and Lambda PID tuning rules were designed for this algorithm. If no derivative is used (i.e. Td = 0), the interactive and noninteractive controller algorithms are identical.\n",
    "\n",
    "<img src=\".\\imgs\\ideal.png\" width=480 hight=480 />\n",
    "\n",
    "$$\\large{u(t) = K_c \\left[ e(t) + \\frac{1}{T_i}\\int_0^t e(\\tau)\\ d\\tau + T_d\\frac{d}{dt} e(t)\\right]\\tag{2}}$$"
   ]
  },
  {
   "cell_type": "markdown",
   "metadata": {},
   "source": [
    "### 2.1.3. Parallel algorithm <a class=\"anchor\" id=\"section_2_1_3\"></a>\n",
    "Some academic textbooks discuss the parallel form of PID controller, but it is also used in some DCSs and PLCs. This algorithm is simple to understand, but not intuitive to tune. The reason is that it has no controller gain (affecting all three control modes), it has a proportional gain instead (affecting only the proportional mode). Adjusting the proportional gain should be supplemented by adjusting the integral and derivative settings at the same time. Try to not use this controller algorithm if possible (in some DCSs it is an option, so select the alternative).\n",
    "\n",
    "<img src=\".\\imgs\\parallel.png\" width=450 hight=450 />\n",
    "\n",
    "$$\\large{u(t) = K_p e(t) + K_i\\int_0^t e(\\tau)\\ d\\tau + K_d\\frac{d}{dt} e(t)\\tag{3}}$$\n",
    "\n",
    "**Where:**\n",
    "\n",
    "$K_p = K_c$ - Propotional gain\n",
    "\n",
    "$K_i = \\frac{K_c}{T_i}$ - Integral gain\n",
    "\n",
    "$K_d = K_c T_d$ - Derivative gain"
   ]
  },
  {
   "cell_type": "markdown",
   "metadata": {},
   "source": [
    "### 2.2. PID Controller terms <a class=\"anchor\" id=\"section_2_2\"></a>\n",
    "In the following cells, we will look at the three components (terms) of each PID controller."
   ]
  },
  {
   "cell_type": "markdown",
   "metadata": {},
   "source": [
    "### 2.2.1. Proportional term <a class=\"anchor\" id=\"section_2_2_1\"></a>\n",
    "The **Proportional term (component)** produces an output value that is proportional to the current error value. The proportional response can be adjusted by multiplying the error by a constant $K_p$, called the proportional gain constant. The proportional component is given by:\n",
    "\n",
    "$$\\large{u(t) = K_p e(t)}\\tag{4}$$\n",
    "\n",
    "If the Laplace transform is applied on both sides:\n",
    "\n",
    "$$\\large{U(s) = K_p E(s)}\\tag{5}$$\n",
    "\n",
    "$$\\large{\\frac{U(s)}{E(s)} = K_p}\\tag{5.1}$$\n",
    "\n",
    "Therefore, the transfer function of the proportional term is:\n",
    "\n",
    "$$\\large{K_p}\\tag{6}$$\n",
    "\n",
    "**Where:**\n",
    "\n",
    "$U(s)$ - Laplace transform of the actuating signal $u(t)$\n",
    "\n",
    "$E(s)$ - Laplace transform of the error signal $e(t)$\n",
    "\n",
    "$K_p$ - the proportionality constant\n",
    "\n",
    "A high proportional gain results in a large change in the output for a given change in the error. If the proportional gain is too high, the system can become unstable. In contrast, a small gain results in a small output response to a large input error, and a less responsive or less sensitive controller. If the proportional gain is too low, the control action may be too small when responding to system disturbances. Tuning theory and industrial practice indicate that the proportional term should contribute to the bulk of the output change."
   ]
  },
  {
   "cell_type": "markdown",
   "metadata": {},
   "source": [
    "### 2.2.2. Integral component <a class=\"anchor\" id=\"section_2_2_2\"></a>\n",
    "The contribution from the **Integral term (component)** is proportional to both the magnitude of the error and the duration of the error. The integral in a PID controller is the sum of the instantaneous error over time and gives the accumulated offset that should have been corrected previously. The accumulated error is then multiplied by the integral gain $K_i$ and added to the controller output. The integral component is given by:\n",
    "\n",
    "$$\\large{u(t) = K_i\\int_0^t e(\\tau)\\ d\\tau\\tag{7}}$$\n",
    "\n",
    "If the Laplace transform is applied on both sides:\n",
    "\n",
    "$$\\large{U(s) = \\frac{K_i E(s)}{s}\\tag{8}}$$\n",
    "\n",
    "$$\\large{\\frac{U(s)}{E(s)} = \\frac{K_i}{s}\\tag{8.1}}$$\n",
    "\n",
    "Therefore, the transfer function of the integral term is:\n",
    "\n",
    "$$\\large{\\frac{K_i}{s}\\tag{9}}$$\n",
    "\n",
    "**Where:**\n",
    "\n",
    "$K_i$ - the integral constant\n",
    "\n",
    "The integral component accelerates the movement of the process towards set-point and eliminates the residual steady-state error that occurs with a pure proportional controller. However, since the integral component responds to accumulated errors from the past, it can cause the present value to overshoot the set point value."
   ]
  },
  {
   "cell_type": "markdown",
   "metadata": {},
   "source": [
    "### 2.2.3. Derivative component <a class=\"anchor\" id=\"section_2_2_3\"></a>\n",
    "The derivative of the process error is calculated by determining the slope of the error over time and multiplying this rate of change by the derivative gain $K_d$. The magnitude of the contribution of the derivative component to the overall control action is termed the derivative gain. The derivative component is given by:\n",
    "\n",
    "$$\\large{u(t) = K_d\\frac{d}{dt} e(t)\\tag{10}}$$\n",
    "\n",
    "If the Laplace transform is applied on both sides:\n",
    "\n",
    "$$\\large{U(s) = K_d s E(s)\\tag{11}}$$\n",
    "\n",
    "$$\\large{\\frac{U(s)}{E(s)} = K_d s\\tag{11.1}}$$\n",
    "\n",
    "Therefore, the transfer function of the derivative term is:\n",
    "\n",
    "$$\\large{K_d s\\tag{12}}$$\n",
    "\n",
    "**Where:**\n",
    "\n",
    "$K_d$ - the derivative constant\n",
    "\n",
    "Derivative action predicts system behavior and thus improves the settling time and stability of the system. An ideal derivative is not causal, so that implementations of PID controllers include an additional low pass filtering for the derivative component, to limit the high frequency gain and noise. Derivative action is seldom used in practice though (by one estimate in only 20% of deployed controllers), because of its variable impact on system stability in real world applications."
   ]
  },
  {
   "cell_type": "markdown",
   "metadata": {},
   "source": [
    "### 2.3. PID Controller tuning methods <a class=\"anchor\" id=\"section_2_3\"></a>\n",
    "How to tune a controller for any control application quickly and appropriately? This question raised in 1942 is still up to date and constantly occupies the automation community worldwide. The answer is very intricate. This intricacy is comparable with the open hitherto unresolved Hilbert problems known from mathematics.\n",
    "\n",
    "The methods used for PID tuning are dozens. They are classified, depending on the application of the control system (process control, robotic manipulations, electric drives, energy applications, biomedical applications, chemical applications, mechanical systems, HVAC, etc.).\n",
    "\n",
    "In the following cells we will look at some of the most used (classicla) methods and rules."
   ]
  },
  {
   "cell_type": "markdown",
   "metadata": {},
   "source": [
    "### 2.3.1. Ziegler-Nichols Method <a class=\"anchor\" id=\"section_2_3_1\"></a>"
   ]
  },
  {
   "cell_type": "markdown",
   "metadata": {},
   "source": [
    "### 2.3.2. Cohen-Coon Method <a class=\"anchor\" id=\"section_2_3_2\"></a>"
   ]
  },
  {
   "cell_type": "markdown",
   "metadata": {},
   "source": [
    "### 2.3.3. Tyreus-Luyben Method <a class=\"anchor\" id=\"section_2_3_3\"></a>"
   ]
  },
  {
   "cell_type": "markdown",
   "metadata": {},
   "source": [
    "### 2.3.4. Lambda Method <a class=\"anchor\" id=\"section_2_3_4\"></a>"
   ]
  },
  {
   "cell_type": "markdown",
   "metadata": {},
   "source": [
    "### 2.4. Dynamic process response - FOPDT model <a class=\"anchor\" id=\"section_2_4\"></a>"
   ]
  },
  {
   "cell_type": "markdown",
   "metadata": {},
   "source": [
    "###  2.4.1. Interactive simulation - FOPDT model <a class=\"anchor\" id=\"section_2_4_1\"></a>"
   ]
  },
  {
   "cell_type": "code",
   "execution_count": 2,
   "metadata": {},
   "outputs": [
    {
     "data": {
      "application/vnd.jupyter.widget-view+json": {
       "model_id": "520a19d589cb40ef939cf9096faffc74",
       "version_major": 2,
       "version_minor": 0
      },
      "text/plain": [
       "interactive(children=(FloatSlider(value=8.0, description='K', max=10.0, min=-10.0), FloatSlider(value=5.0, des…"
      ]
     },
     "metadata": {},
     "output_type": "display_data"
    },
    {
     "data": {
      "text/plain": [
       "<function __main__.fopdtPlot(K, tau, theta)>"
      ]
     },
     "execution_count": 2,
     "metadata": {},
     "output_type": "execute_result"
    }
   ],
   "source": [
    "# FOPDT\n",
    "def fopdtPlot(K,tau,theta):\n",
    "    n = 100 # time points to plot\n",
    "    t = np.linspace(0,20,100) # create time vector\n",
    "    # create 0 -> 1 step at t=theta\n",
    "    delay = np.empty_like(t)\n",
    "    for i in range(n):\n",
    "        if t[i] < theta:\n",
    "            delay[i] = 0.0\n",
    "        else:\n",
    "            delay[i] = 1.0\n",
    "    # calculate response to step input\n",
    "    x = K * (1.0-np.exp(-(t-theta)/tau))\n",
    "    y = x * delay\n",
    "    # plot response\n",
    "    plt.figure(1,figsize=(15,7))\n",
    "    plt.subplot(1,2,1)\n",
    "    plt.plot(t,y,'k-',linewidth=4,label=r'$y(t)=x(t-\\theta)*S(t-\\theta)$')\n",
    "    plt.legend(loc='best')\n",
    "    plt.ylim([-10,10])\n",
    "    plt.xlim([0,20])\n",
    "    plt.subplot(1,2,2)\n",
    "    plt.plot(t,x,'r--',linewidth=2,label=r'$x(t-\\theta)=K\\;(1-\\exp(-(t-\\theta)/\\tau))$')\n",
    "    plt.plot(t,delay,'g:',linewidth=2,label=r'$S(t-\\theta)$')\n",
    "    plt.xlabel('time')\n",
    "    plt.legend(loc='best')\n",
    "    plt.ylim([-10,10])\n",
    "    plt.xlim([0,20])\n",
    "    \n",
    "K_slide = wg.FloatSlider(value=8.0,min=-10.0,max=10.0,step=0.1)\n",
    "tau_slide = wg.FloatSlider(value=5.0,min=0.1,max=10.0,step=0.1)\n",
    "theta_slide = wg.FloatSlider(value=4.0,min=0.1,max=15.0,step=0.1)\n",
    "wg.interact(fopdtPlot, K=K_slide, tau=tau_slide, theta=theta_slide)"
   ]
  },
  {
   "cell_type": "markdown",
   "metadata": {},
   "source": [
    "### 3. Interactive simulations of PID controller tuning <a class=\"anchor\" id=\"chapter3\"></a>"
   ]
  },
  {
   "cell_type": "markdown",
   "metadata": {},
   "source": [
    "### 3.1. P control tuning <a class=\"anchor\" id=\"section_3_1\"></a>"
   ]
  },
  {
   "cell_type": "code",
   "execution_count": 3,
   "metadata": {},
   "outputs": [
    {
     "data": {
      "application/vnd.jupyter.widget-view+json": {
       "model_id": "8e64e75282c54656b2128bb37da1f9b6",
       "version_major": 2,
       "version_minor": 0
      },
      "text/plain": [
       "interactive(children=(FloatSlider(value=2.0, description='Kc', max=15.0, step=1.0), Output()), _dom_classes=('…"
      ]
     },
     "metadata": {},
     "output_type": "display_data"
    },
    {
     "name": "stdout",
     "output_type": "stream",
     "text": [
      "P Simulator: Adjust Kc and Calculate Offset\n"
     ]
    }
   ],
   "source": [
    "# P\n",
    "n = 601 # time points to plot\n",
    "tf = 600.0 # final time\n",
    "\n",
    "# TCLab FOPDT\n",
    "Kp = 0.9\n",
    "taup = 175.0\n",
    "thetap = 15.0\n",
    "\n",
    "def process(y,t,u):\n",
    "    dydt = (1.0/taup) * (-(y-23.0) + Kp * u)\n",
    "    return dydt\n",
    "\n",
    "def pidPlot(Kc):\n",
    "    t = np.linspace(0,tf,n) # create time vector\n",
    "    P = np.zeros(n)         # initialize proportional term\n",
    "    e = np.zeros(n)         # initialize error\n",
    "    OP = np.zeros(n)        # initialize controller output\n",
    "    PV = np.ones(n)*23.0    # initialize process variable\n",
    "    SP = np.ones(n)*23.0    # initialize setpoint\n",
    "    SP[10:] = 60.0          # step up\n",
    "    y0 = 23.0               # initial condition\n",
    "    iae = 0.0\n",
    "    # loop through all time steps\n",
    "    for i in range(1,n):\n",
    "        # simulate process for one time step\n",
    "        ts = [t[i-1],t[i]]         # time interval\n",
    "        y = odeint(process,y0,ts,args=(OP[max(0,i-1-int(thetap))],))\n",
    "        y0 = y[1]                  # record new initial condition\n",
    "        iae += np.abs(SP[i]-y0[0])\n",
    "        # calculate new OP with PID\n",
    "        PV[i] = y[1]               # record PV\n",
    "        e[i] = SP[i] - PV[i]       # calculate error = SP - PV\n",
    "        dt = t[i] - t[i-1]         # calculate time step\n",
    "        P[i] = Kc * e[i]           # calculate proportional term\n",
    "        OP[i] = P[i]               # calculate new controller output\n",
    "        if OP[i]>=100:\n",
    "            OP[i] = 100.0\n",
    "        if OP[i]<=0:\n",
    "            OP[i] = 0.0\n",
    "\n",
    "    # plot PID response\n",
    "    plt.figure(1,figsize=(15,7))\n",
    "    \n",
    "    plt.subplot(2,2,1)\n",
    "    plt.plot(t,SP,'k-',linewidth=2,label='Setpoint (SP)')\n",
    "    plt.plot(t,PV,'r:',linewidth=2,label='Temperature (PV)')\n",
    "    plt.ylabel(r'T $(^oC)$')\n",
    "    plt.text(200,30,'Offset: ' + str(np.round(SP[-1]-PV[-1],2)))\n",
    "    plt.text(400,30,r'$K_c$: ' + str(np.round(Kc,0)))  \n",
    "    plt.legend(loc='best')\n",
    "    \n",
    "    plt.subplot(2,2,2)\n",
    "    plt.plot(t,P,'g.-',linewidth=2,label=r'Proportional = $K_c \\; e(t)$')\n",
    "    plt.legend(loc='best')\n",
    "    plt.subplot(2,2,3)\n",
    "    plt.plot(t,e,'m--',linewidth=2,label='Error (e=SP-PV)')\n",
    "    plt.ylabel(r'$\\Delta T$ $(^oC)$')\n",
    "    plt.legend(loc='best')\n",
    "    plt.xlabel('time (sec)')\n",
    "    \n",
    "    plt.subplot(2,2,4)\n",
    "    plt.plot(t,OP,'b--',linewidth=2,label='Heater (OP)')\n",
    "    plt.legend(loc='best')\n",
    "    plt.xlabel('time (sec)')\n",
    "\n",
    "Kc_slide = wg.FloatSlider(value=2.0,min=0.0,max=15.0,step=1.0)\n",
    "wg.interact(pidPlot, Kc=Kc_slide)\n",
    "print('P Simulator: Adjust Kc and Calculate Offset')"
   ]
  },
  {
   "cell_type": "markdown",
   "metadata": {},
   "source": [
    "### 3.2. PI control tuning <a class=\"anchor\" id=\"section_3_2\"></a>"
   ]
  },
  {
   "cell_type": "code",
   "execution_count": 4,
   "metadata": {
    "scrolled": false
   },
   "outputs": [
    {
     "data": {
      "application/vnd.jupyter.widget-view+json": {
       "model_id": "f6883fc228c84cd6b7d0ab9a8fd9134c",
       "version_major": 2,
       "version_minor": 0
      },
      "text/plain": [
       "interactive(children=(FloatSlider(value=5.0, description='Kc', max=50.0, step=1.0), FloatSlider(value=120.0, d…"
      ]
     },
     "metadata": {},
     "output_type": "display_data"
    },
    {
     "name": "stdout",
     "output_type": "stream",
     "text": [
      "PI Simulator: Adjust Kc and tauI for lowest Integral Abs Error\n"
     ]
    }
   ],
   "source": [
    "# PI\n",
    "n = 601 # time points to plot\n",
    "tf = 600.0 # final time\n",
    "\n",
    "# TCLab FOPDT\n",
    "Kp = 0.9\n",
    "taup = 175.0\n",
    "thetap = 15.0\n",
    "\n",
    "def process(y,t,u):\n",
    "    dydt = (1.0/taup) * (-(y-23.0) + Kp * u)\n",
    "#     dydt = Kp * (1 - np.exp(-(t - thetap) / taup)) * (t > thetap)\n",
    "    return dydt\n",
    "\n",
    "def pidPlot(Kc,tauI):\n",
    "    t = np.linspace(0,tf,n) # create time vector\n",
    "    P = np.zeros(n)          # initialize proportional term\n",
    "    I = np.zeros(n)         # initialize integral term\n",
    "    e = np.zeros(n)         # initialize error\n",
    "    OP = np.zeros(n)        # initialize controller output\n",
    "    PV = np.ones(n)*23.0    # initialize process variable\n",
    "    SP = np.ones(n)*23.0    # initialize setpoint\n",
    "    SP[10:] = 60.0          # step up\n",
    "    y0 = 23.0               # initial condition\n",
    "    iae = 0.0\n",
    "    # loop through all time steps\n",
    "    for i in range(1,n):\n",
    "        # simulate process for one time step\n",
    "        ts = [t[i-1],t[i]]         # time interval\n",
    "        y = odeint(process,y0,ts,args=(OP[max(0,i-int(thetap))],))\n",
    "        y0 = y[1]                  # record new initial condition\n",
    "        iae += np.abs(SP[i]-y0[0])\n",
    "        # calculate new OP with PID\n",
    "        PV[i] = y[1]               # record PV\n",
    "        e[i] = SP[i] - PV[i]       # calculate error = SP - PV\n",
    "        dt = t[i] - t[i-1]         # calculate time step\n",
    "        P[i] = Kc * e[i]           # calculate proportional term\n",
    "        I[i] = I[i-1] + (Kc/tauI) * e[i] * dt  # calculate integral term\n",
    "        OP[i] = P[i] + I[i]        # calculate new controller output\n",
    "        if OP[i]>=100:\n",
    "            OP[i] = 100.0\n",
    "            I[i] = I[i-1] # reset integral\n",
    "        if OP[i]<=0:\n",
    "            OP[i] = 0.0\n",
    "            I[i] = I[i-1] # reset integral            \n",
    "\n",
    "    # plot PID response\n",
    "    plt.figure(1,figsize=(15,7))\n",
    "    \n",
    "    plt.subplot(2,2,1)\n",
    "    plt.plot(t,SP,'k-',linewidth=2,label='Setpoint (SP)')\n",
    "    plt.plot(t,PV,'r:',linewidth=2,label='Temperature (PV)')\n",
    "    plt.ylabel(r'T $(^oC)$')\n",
    "    plt.text(100,30,'Integral Abs Error: ' + str(np.round(iae,2)))\n",
    "    plt.text(400,30,r'$K_c$: ' + str(np.round(Kc,0)))  \n",
    "    plt.text(400,27,r'$\\tau_I$: ' + str(np.round(tauI,0)) + ' sec')  \n",
    "    plt.legend(loc=1)\n",
    "    \n",
    "    plt.subplot(2,2,2)\n",
    "    plt.plot(t,P,'g.-',linewidth=2,label=r'Proportional = $K_c \\; e(t)$')\n",
    "    plt.plot(t,I,'b-',linewidth=2,label=r'Integral = ' + \\\n",
    "             r'$\\frac{K_c}{\\tau_I} \\int_{i=0}^{n_t} e(t) \\; dt $')\n",
    "    plt.legend(loc='best')\n",
    "    \n",
    "    plt.subplot(2,2,3)\n",
    "    plt.plot(t,e,'m--',linewidth=2,label='Error (e=SP-PV)')\n",
    "    plt.ylabel(r'$\\Delta T$ $(^oC)$')\n",
    "    plt.legend(loc='best')\n",
    "    plt.xlabel('time (sec)')\n",
    "    \n",
    "    plt.subplot(2,2,4)\n",
    "    plt.plot(t,OP,'b--',linewidth=2,label='Heater (OP)')\n",
    "    plt.legend(loc='best')\n",
    "    plt.xlabel('time (sec)')\n",
    "\n",
    "Kc_slide = wg.FloatSlider(value=5.0,min=0.0,max=50.0,step=1.0)\n",
    "tauI_slide = wg.FloatSlider(value=120.0,min=20.0,max=180.0,step=5.0)\n",
    "wg.interact(pidPlot, Kc=Kc_slide, tauI=tauI_slide)\n",
    "print('PI Simulator: Adjust Kc and tauI for lowest Integral Abs Error')"
   ]
  },
  {
   "cell_type": "markdown",
   "metadata": {},
   "source": [
    "### 3.3. PID control tuning <a class=\"anchor\" id=\"section_3_3\"></a>"
   ]
  },
  {
   "cell_type": "code",
   "execution_count": 5,
   "metadata": {
    "scrolled": false
   },
   "outputs": [
    {
     "data": {
      "application/vnd.jupyter.widget-view+json": {
       "model_id": "c705b9b563ef4400b4481a850bbb0f8d",
       "version_major": 2,
       "version_minor": 0
      },
      "text/plain": [
       "interactive(children=(FloatSlider(value=1.0, description='Kc', max=1.0), FloatSlider(value=120.0, description=…"
      ]
     },
     "metadata": {},
     "output_type": "display_data"
    },
    {
     "name": "stdout",
     "output_type": "stream",
     "text": [
      "PID Simulator: Adjust Kc, tauI, and tauD to achieve lowest Integral Abs Error\n"
     ]
    }
   ],
   "source": [
    "# PID\n",
    "n = 601 # time points to plot\n",
    "tf = 600.0 # final time\n",
    "\n",
    "# TCLab FOPDT\n",
    "Kp = 3\n",
    "taup = 175\n",
    "thetap = 15\n",
    "\n",
    "def process(y,t,u):\n",
    "    dydt = (1.0/taup) * (-(y-23.0) + Kp * u)\n",
    "    return dydt\n",
    "\n",
    "def pidPlot(Kc,tauI,tauD):\n",
    "    t = np.linspace(0,tf,n) # create time vector\n",
    "    P = np.zeros(n)          # initialize proportional term\n",
    "    I = np.zeros(n)         # initialize integral term\n",
    "    D = np.zeros(n)         # initialize derivative term\n",
    "    e = np.zeros(n)         # initialize error\n",
    "    OP = np.zeros(n)        # initialize controller output\n",
    "    PV = np.ones(n)*23.0    # initialize process variable\n",
    "    SP = np.ones(n)*23.0    # initialize setpoint\n",
    "    SP[10:300] = 50.0       # step up\n",
    "    SP[300:601] = 40.0      # step down    \n",
    "    y0 = 23.0               # initial condition\n",
    "    iae = 0.0\n",
    "    # loop through all time steps\n",
    "    for i in range(1,n):\n",
    "        # simulate process for one time step\n",
    "        ts = [t[i-1],t[i]]         # time interval\n",
    "        y = odeint(process,y0,ts,args=(OP[max(0,i-int(thetap))],))\n",
    "        y0 = y[1]                  # record new initial condition\n",
    "        iae += np.abs(SP[i]-y0[0])\n",
    "        # calculate new OP with PID\n",
    "        PV[i] = y[1]               # record PV\n",
    "        e[i] = SP[i] - PV[i]       # calculate error = SP - PV\n",
    "        dt = t[i] - t[i-1]         # calculate time step\n",
    "        P[i] = Kc * e[i]           # calculate proportional term\n",
    "        I[i] = I[i-1] + (Kc/tauI) * e[i] * dt  # calculate integral term\n",
    "        D[i] = -Kc * tauD * (PV[i]-PV[i-1])/dt # calculate derivative term\n",
    "        OP[i] = P[i] + I[i] + D[i] # calculate new controller output\n",
    "        if OP[i]>=100:\n",
    "            OP[i] = 100.0\n",
    "            I[i] = I[i-1] # reset integral\n",
    "        if OP[i]<=0:\n",
    "            OP[i] = 0.0\n",
    "            I[i] = I[i-1] # reset integral            \n",
    "\n",
    "    # plot PID response\n",
    "    plt.figure(1,figsize=(15,7))\n",
    "    plt.subplot(2,2,1)\n",
    "    plt.plot(t,SP,'k-',linewidth=2,label='Setpoint (SP)')\n",
    "    plt.plot(t,PV,'r:',linewidth=2,label='Temperature (PV)')\n",
    "    plt.ylabel(r'T $(^oC)$')\n",
    "    plt.text(100,30,'Integral Abs Error: ' + str(np.round(iae,2)))\n",
    "    plt.text(400,30,r'$K_c$: ' + str(np.round(Kc,0)))  \n",
    "    plt.text(400,27,r'$\\tau_I$: ' + str(np.round(tauI,0)) + ' sec')  \n",
    "    plt.text(400,24,r'$\\tau_D$: ' + str(np.round(tauD,0)) + ' sec')  \n",
    "    plt.legend(loc='best')\n",
    "    plt.subplot(2,2,2)\n",
    "    plt.plot(t,P,'g.-',linewidth=2,label=r'Proportional = $K_c \\; e(t)$')\n",
    "    plt.plot(t,I,'b-',linewidth=2,label=r'Integral = ' + \\\n",
    "             r'$\\frac{K_c}{\\tau_I} \\int_{i=0}^{n_t} e(t) \\; dt $')\n",
    "    plt.plot(t,D,'r--',linewidth=2,label=r'Derivative = ' + \\\n",
    "             r'$-K_c \\tau_D \\frac{d(PV)}{dt}$')  \n",
    "    plt.legend(loc='best')\n",
    "    plt.subplot(2,2,3)\n",
    "    plt.plot(t,e,'m--',linewidth=2,label='Error (e=SP-PV)')\n",
    "    plt.ylabel(r'$\\Delta T$ $(^oC)$')\n",
    "    plt.legend(loc='best')\n",
    "    plt.subplot(2,2,4)\n",
    "    plt.plot(t,OP,'b--',linewidth=2,label='Heater (OP)')\n",
    "    plt.legend(loc='best')\n",
    "    plt.xlabel('time')\n",
    "\n",
    "Kc_slide = wg.FloatSlider(value=5.0,min=0.0,max=1.0,step=0.1)\n",
    "tauI_slide = wg.FloatSlider(value=120.0,min=20.0,max=180.0,step=5.0)\n",
    "tauD_slide = wg.FloatSlider(value=0.0,min=0.0,max=20.0,step=1.0)\n",
    "wg.interact(pidPlot, Kc=Kc_slide, tauI=tauI_slide, tauD=tauD_slide)\n",
    "print('PID Simulator: Adjust Kc, tauI, and tauD to achieve lowest Integral Abs Error')"
   ]
  },
  {
   "cell_type": "markdown",
   "metadata": {},
   "source": [
    "### 4. Conclusion <a class=\"anchor\" id=\"chapter4\"></a>"
   ]
  },
  {
   "cell_type": "code",
   "execution_count": 6,
   "metadata": {},
   "outputs": [
    {
     "data": {
      "image/png": "[encoded data removed]",
      "text/plain": [
       "<Figure size 432x288 with 2 Axes>"
      ]
     },
     "metadata": {
      "needs_background": "light"
     },
     "output_type": "display_data"
    }
   ],
   "source": [
    "import numpy as np\n",
    "import matplotlib.pyplot as plt\n",
    "from scipy.integrate import odeint\n",
    "from scipy.interpolate import interp1d\n",
    "\n",
    "# define process model (to generate process data)\n",
    "def process(y,t,n,u,Kp,taup):\n",
    "    # arguments\n",
    "    #  y[n] = outputs\n",
    "    #  t    = time\n",
    "    #  n    = order of the system   \n",
    "    #  u    = input value\n",
    "    #  Kp   = process gain\n",
    "    #  taup = process time constant\n",
    "\n",
    "    # equations for higher order system\n",
    "    dydt = np.zeros(n)\n",
    "    # calculate derivative\n",
    "    dydt[0] = (-y[0] + Kp * u)/(taup/n)\n",
    "    for i in range(1,n):\n",
    "       dydt[i] = (-y[i] + y[i-1])/(taup/n)\n",
    "    return dydt\n",
    "\n",
    "# define first-order plus dead-time approximation    \n",
    "def fopdt(y,t,uf,Km,taum,thetam):\n",
    "    # arguments\n",
    "    #  y      = output\n",
    "    #  t      = time\n",
    "    #  uf     = input linear function (for time shift)\n",
    "    #  Km     = model gain\n",
    "    #  taum   = model time constant\n",
    "    #  thetam = model time constant\n",
    "    #  time-shift u\n",
    "    try:\n",
    "        if (t-thetam) <= 0:\n",
    "            um = uf(0.0)\n",
    "        else:\n",
    "            um = uf(t-thetam)\n",
    "    except:\n",
    "        #print('Error with time extrapolation: ' + str(t))\n",
    "        um = 0\n",
    "    # calculate derivative\n",
    "    dydt = (-y + Km * um)/taum\n",
    "    return dydt\n",
    "\n",
    "# specify number of steps\n",
    "ns = 40\n",
    "# define time points\n",
    "t = np.linspace(0,16,ns+1)\n",
    "delta_t = t[1]-t[0]\n",
    "# define input vector\n",
    "u = np.zeros(ns+1)\n",
    "u[5:] = 1.0\n",
    "# create linear interpolation of the u data versus time\n",
    "uf = interp1d(t,u)\n",
    "\n",
    "# use this function or replace yp with real process data\n",
    "def sim_process_data():\n",
    "    # higher order process\n",
    "    n=10       # order\n",
    "    Kp=3.0    # gain\n",
    "    taup=5.0   # time constant\n",
    "    # storage for predictions or data\n",
    "    yp = np.zeros(ns+1)  # process\n",
    "    for i in range(1,ns+1):\n",
    "        if i==1:\n",
    "            yp0 = np.zeros(n)\n",
    "        ts = [delta_t*(i-1),delta_t*i]\n",
    "        y = odeint(process,yp0,ts,args=(n,u[i],Kp,taup))\n",
    "        yp0 = y[-1]\n",
    "        yp[i] = y[1][n-1]\n",
    "    return yp\n",
    "yp = sim_process_data()\n",
    "\n",
    "# simulate FOPDT model with x=[Km,taum,thetam]\n",
    "def sim_model(Km,taum,thetam):\n",
    "    # input arguments\n",
    "    #Km \n",
    "    #taum \n",
    "    #thetam \n",
    "    # storage for model values\n",
    "    ym = np.zeros(ns+1)  # model\n",
    "    # initial condition\n",
    "    ym[0] = 0\n",
    "    # loop through time steps    \n",
    "    for i in range(1,ns+1):\n",
    "        ts = [delta_t*(i-1),delta_t*i]\n",
    "        y1 = odeint(fopdt,ym[i-1],ts,args=(uf,Km,taum,thetam))\n",
    "        ym[i] = y1[-1]\n",
    "    return ym    \n",
    "\n",
    "# calculate model with updated parameters\n",
    "Km = 2.5\n",
    "taum = 3.0\n",
    "thetam = 5.0\n",
    "ym = sim_model(Km,taum,thetam)\n",
    "\n",
    "# plot results\n",
    "plt.figure()\n",
    "plt.subplot(2,1,1)\n",
    "plt.plot(t,ym,'r--',linewidth=3,label='Fit FOPDT')\n",
    "plt.plot(t,yp,'kx-',linewidth=2,label='Process Data')\n",
    "plt.ylabel('Output')\n",
    "plt.legend(loc='best')\n",
    "plt.subplot(2,1,2)\n",
    "plt.plot(t,u,'bx-',linewidth=2)\n",
    "plt.plot(t,uf(t),'r--',linewidth=3)\n",
    "plt.legend(['Measured','Interpolated'],loc='best')\n",
    "plt.ylabel('Input Data')\n",
    "plt.show()"
   ]
  },
  {
   "cell_type": "code",
   "execution_count": 7,
   "metadata": {},
   "outputs": [
    {
     "data": {
      "application/vnd.jupyter.widget-view+json": {
       "model_id": "0d0d16b7c9dc48d2b9cff2ff546ceca1",
       "version_major": 2,
       "version_minor": 0
      },
      "text/plain": [
       "interactive(children=(FloatSlider(value=0.1, description='Kc', max=1.0, min=-0.2, step=0.05), FloatSlider(valu…"
      ]
     },
     "metadata": {},
     "output_type": "display_data"
    },
    {
     "data": {
      "text/plain": [
       "<function __main__.pidPlot(Kc, tauI, tauD)>"
      ]
     },
     "execution_count": 7,
     "metadata": {},
     "output_type": "execute_result"
    }
   ],
   "source": [
    "n = 100 # time points to plot\n",
    "tf = 20.0 # final time\n",
    "SP_start = 2.0 # time of set point change\n",
    "\n",
    "def process(y,t,u):\n",
    "    Kp = 4.0\n",
    "    taup = 3.0\n",
    "    thetap = 1.0\n",
    "    if t<(thetap+SP_start):\n",
    "        dydt = 0.0  # time delay\n",
    "    else:\n",
    "        dydt = (-y + Kp * u)/taup\n",
    "    return dydt\n",
    "\n",
    "def pidPlot(Kc,tauI,tauD):\n",
    "    t = np.linspace(0,tf,n) # create time vector\n",
    "    P= np.zeros(n)          # initialize proportional term\n",
    "    I = np.zeros(n)         # initialize integral term\n",
    "    D = np.zeros(n)         # initialize derivative term\n",
    "    e = np.zeros(n)         # initialize error\n",
    "    OP = np.zeros(n)        # initialize controller output\n",
    "    PV = np.zeros(n)        # initialize process variable\n",
    "    SP = np.zeros(n)        # initialize setpoint\n",
    "    SP_step = int(SP_start/(tf/(n-1))+1) # setpoint start\n",
    "    SP[0:SP_step] = 0.0     # define setpoint\n",
    "    SP[SP_step:n] = 4.0     # step up\n",
    "    y0 = 0.0                # initial condition\n",
    "    # loop through all time steps\n",
    "    for i in range(1,n):\n",
    "        # simulate process for one time step\n",
    "        ts = [t[i-1],t[i]]         # time interval\n",
    "        y = odeint(process,y0,ts,args=(OP[i-1],))  # compute next step\n",
    "        y0 = y[1]                  # record new initial condition\n",
    "        # calculate new OP with PID\n",
    "        PV[i] = y[1]               # record PV\n",
    "        e[i] = SP[i] - PV[i]       # calculate error = SP - PV\n",
    "        dt = t[i] - t[i-1]         # calculate time step\n",
    "        P[i] = Kc * e[i]           # calculate proportional term\n",
    "        I[i] = I[i-1] + (Kc/tauI) * e[i] * dt  # calculate integral term\n",
    "        D[i] = -Kc * tauD * (PV[i]-PV[i-1])/dt # calculate derivative term\n",
    "        OP[i] = P[i] + I[i] + D[i] # calculate new controller output\n",
    "        \n",
    "    # plot PID response\n",
    "    plt.figure(1,figsize=(15,7))\n",
    "    plt.subplot(2,2,1)\n",
    "    plt.plot(t,SP,'k-',linewidth=2,label='Setpoint (SP)')\n",
    "    plt.plot(t,PV,'r:',linewidth=2,label='Process Variable (PV)')\n",
    "    plt.legend(loc='best')\n",
    "    plt.subplot(2,2,2)\n",
    "    plt.plot(t,P,'g.-',linewidth=2,label=r'Proportional = $K_c \\; e(t)$')\n",
    "    plt.plot(t,I,'b-',linewidth=2,label=r'Integral = $\\frac{K_c}{\\tau_I} \\int_{i=0}^{n_t} e(t) \\; dt $')\n",
    "    plt.plot(t,D,'r--',linewidth=2,label=r'Derivative = $-K_c \\tau_D \\frac{d(PV)}{dt}$')    \n",
    "    plt.legend(loc='best')\n",
    "    plt.subplot(2,2,3)\n",
    "    plt.plot(t,e,'m--',linewidth=2,label='Error (e=SP-PV)')\n",
    "    plt.legend(loc='best')\n",
    "    plt.subplot(2,2,4)\n",
    "    plt.plot(t,OP,'b--',linewidth=2,label='Controller Output (OP)')\n",
    "    plt.legend(loc='best')\n",
    "    plt.xlabel('time')\n",
    "    \n",
    "Kc_slide = wg.FloatSlider(value=0.1,min=-0.2,max=1.0,step=0.05)\n",
    "tauI_slide = wg.FloatSlider(value=4.0,min=0.01,max=5.0,step=0.1)\n",
    "tauD_slide = wg.FloatSlider(value=0.0,min=0.0,max=1.0,step=0.1)\n",
    "wg.interact(pidPlot, Kc=Kc_slide, tauI=tauI_slide, tauD=tauD_slide)"
   ]
  },
  {
   "cell_type": "code",
   "execution_count": null,
   "metadata": {},
   "outputs": [],
   "source": []
  }
 ],
 "metadata": {
  "kernelspec": {
   "display_name": "Python 3",
   "language": "python",
   "name": "python3"
  },
  "language_info": {
   "codemirror_mode": {
    "name": "ipython",
    "version": 3
   },
   "file_extension": ".py",
   "mimetype": "text/x-python",
   "name": "python",
   "nbconvert_exporter": "python",
   "pygments_lexer": "ipython3",
   "version": "3.8.5"
  }
 },
 "nbformat": 4,
 "nbformat_minor": 4
}
