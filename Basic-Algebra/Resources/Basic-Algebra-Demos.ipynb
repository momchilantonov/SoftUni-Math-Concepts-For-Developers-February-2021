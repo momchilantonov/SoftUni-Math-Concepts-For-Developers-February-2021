{
 "cells": [
  {
   "cell_type": "code",
   "execution_count": 1,
   "id": "moved-genre",
   "metadata": {},
   "outputs": [],
   "source": [
    "%matplotlib inline"
   ]
  },
  {
   "cell_type": "code",
   "execution_count": 2,
   "id": "entitled-expense",
   "metadata": {},
   "outputs": [],
   "source": [
    "import math\n",
    "import cmath\n",
    "import numpy.polynomial.polynomial as p\n",
    "\n",
    "import numpy as np\n",
    "import matplotlib.pyplot as plt"
   ]
  },
  {
   "cell_type": "markdown",
   "id": "australian-breakdown",
   "metadata": {},
   "source": [
    "# Basic Algebra\n",
    "## Live Demos"
   ]
  },
  {
   "cell_type": "code",
   "execution_count": 3,
   "id": "certain-church",
   "metadata": {},
   "outputs": [],
   "source": [
    "def solve_quadratic_equation(a, b, c):\n",
    "    D = b * b - 4 * a * c\n",
    "    if D > 0:\n",
    "        # Two distinct roots\n",
    "        print([(-b - math.sqrt(D)) / (2 * a), (-b + math.sqrt(D)) / (2 * a)])\n",
    "    elif D == 0:\n",
    "        # One root\n",
    "        print([-b / (2 * a)])\n",
    "    else:\n",
    "        # No real roots\n",
    "        print([])"
   ]
  },
  {
   "cell_type": "code",
   "execution_count": 4,
   "id": "arranged-african",
   "metadata": {},
   "outputs": [
    {
     "name": "stdout",
     "output_type": "stream",
     "text": [
      "[0.0]\n"
     ]
    }
   ],
   "source": [
    "solve_quadratic_equation(1, 0, 0)"
   ]
  },
  {
   "cell_type": "code",
   "execution_count": 5,
   "id": "developmental-cable",
   "metadata": {},
   "outputs": [
    {
     "name": "stdout",
     "output_type": "stream",
     "text": [
      "[-1.0, 3.0]\n"
     ]
    }
   ],
   "source": [
    "solve_quadratic_equation(1, -2, -3)"
   ]
  },
  {
   "cell_type": "code",
   "execution_count": 6,
   "id": "elegant-individual",
   "metadata": {},
   "outputs": [
    {
     "name": "stdout",
     "output_type": "stream",
     "text": [
      "[-2.0, 2.0]\n"
     ]
    }
   ],
   "source": [
    "solve_quadratic_equation(1, 0, -4)"
   ]
  },
  {
   "cell_type": "code",
   "execution_count": 7,
   "id": "pediatric-afternoon",
   "metadata": {},
   "outputs": [
    {
     "name": "stdout",
     "output_type": "stream",
     "text": [
      "[]\n"
     ]
    }
   ],
   "source": [
    "solve_quadratic_equation(1, -2, 3)"
   ]
  },
  {
   "cell_type": "code",
   "execution_count": 8,
   "id": "stunning-charlotte",
   "metadata": {},
   "outputs": [],
   "source": [
    "numbers = [4, 18, -5, 42.5, 0, 12 / 8, 0]"
   ]
  },
  {
   "cell_type": "code",
   "execution_count": 9,
   "id": "facial-serbia",
   "metadata": {},
   "outputs": [
    {
     "data": {
      "text/plain": [
       "[4, 18, -5, 42.5, 0, 1.5, 0]"
      ]
     },
     "execution_count": 9,
     "metadata": {},
     "output_type": "execute_result"
    }
   ],
   "source": [
    "numbers"
   ]
  },
  {
   "cell_type": "code",
   "execution_count": 10,
   "id": "polar-professor",
   "metadata": {},
   "outputs": [
    {
     "data": {
      "text/plain": [
       "4"
      ]
     },
     "execution_count": 10,
     "metadata": {},
     "output_type": "execute_result"
    }
   ],
   "source": [
    "numbers[0]"
   ]
  },
  {
   "cell_type": "code",
   "execution_count": 11,
   "id": "referenced-victim",
   "metadata": {},
   "outputs": [
    {
     "data": {
      "text/plain": [
       "18"
      ]
     },
     "execution_count": 11,
     "metadata": {},
     "output_type": "execute_result"
    }
   ],
   "source": [
    "numbers[1]"
   ]
  },
  {
   "cell_type": "code",
   "execution_count": 12,
   "id": "standing-caribbean",
   "metadata": {},
   "outputs": [
    {
     "data": {
      "text/plain": [
       "0"
      ]
     },
     "execution_count": 12,
     "metadata": {},
     "output_type": "execute_result"
    }
   ],
   "source": [
    "numbers[4]"
   ]
  },
  {
   "cell_type": "code",
   "execution_count": 13,
   "id": "killing-current",
   "metadata": {},
   "outputs": [
    {
     "data": {
      "text/plain": [
       "0"
      ]
     },
     "execution_count": 13,
     "metadata": {},
     "output_type": "execute_result"
    }
   ],
   "source": [
    "numbers[6]"
   ]
  },
  {
   "cell_type": "code",
   "execution_count": 14,
   "id": "moved-mining",
   "metadata": {},
   "outputs": [
    {
     "data": {
      "text/plain": [
       "7"
      ]
     },
     "execution_count": 14,
     "metadata": {},
     "output_type": "execute_result"
    }
   ],
   "source": [
    "len(numbers)"
   ]
  },
  {
   "cell_type": "code",
   "execution_count": 15,
   "id": "residential-entrepreneur",
   "metadata": {},
   "outputs": [
    {
     "data": {
      "text/latex": [
       "$x \\mapsto \\text{1.0} + \\text{2.0}\\,x + \\text{3.0}\\,x^{2}$"
      ],
      "text/plain": [
       "Polynomial([1., 2., 3.], domain=[-1,  1], window=[-1,  1])"
      ]
     },
     "execution_count": 15,
     "metadata": {},
     "output_type": "execute_result"
    }
   ],
   "source": [
    "p.Polynomial([1, 2, 3])"
   ]
  },
  {
   "cell_type": "code",
   "execution_count": 16,
   "id": "japanese-marshall",
   "metadata": {},
   "outputs": [
    {
     "data": {
      "text/plain": [
       "array([-10.,   5.,   2.,   0.,   3.])"
      ]
     },
     "execution_count": 16,
     "metadata": {},
     "output_type": "execute_result"
    }
   ],
   "source": [
    "p.polyadd([-8, 5, 2], [-2, 0, 0, 0, 3])"
   ]
  },
  {
   "cell_type": "code",
   "execution_count": 17,
   "id": "pending-cover",
   "metadata": {},
   "outputs": [
    {
     "data": {
      "text/plain": [
       "array([ 16., -10.,  -4.,   0., -24.,  15.,   6.])"
      ]
     },
     "execution_count": 17,
     "metadata": {},
     "output_type": "execute_result"
    }
   ],
   "source": [
    "p.polymul([-8, 5, 2], [-2, 0, 0, 0, 3])"
   ]
  },
  {
   "cell_type": "code",
   "execution_count": 18,
   "id": "knowing-fishing",
   "metadata": {},
   "outputs": [],
   "source": [
    "set_of_numbers = {0, 2, 3, 0, 3, 5, 3, 0, 0, 3, 2}"
   ]
  },
  {
   "cell_type": "code",
   "execution_count": 19,
   "id": "optional-brake",
   "metadata": {},
   "outputs": [
    {
     "data": {
      "text/plain": [
       "{0, 2, 3, 5}"
      ]
     },
     "execution_count": 19,
     "metadata": {},
     "output_type": "execute_result"
    }
   ],
   "source": [
    "set_of_numbers"
   ]
  },
  {
   "cell_type": "code",
   "execution_count": 20,
   "id": "standing-antigua",
   "metadata": {},
   "outputs": [
    {
     "data": {
      "text/plain": [
       "[-5, -4, -3, -2, -1, 0, 1, 2, 3, 4, 5]"
      ]
     },
     "execution_count": 20,
     "metadata": {},
     "output_type": "execute_result"
    }
   ],
   "source": [
    "[x for x in range(-5, 6)]"
   ]
  },
  {
   "cell_type": "code",
   "execution_count": 21,
   "id": "operational-audience",
   "metadata": {},
   "outputs": [
    {
     "data": {
      "text/plain": [
       "{-5, -4, -3, -2, -1, 0, 1, 2, 3, 4, 5}"
      ]
     },
     "execution_count": 21,
     "metadata": {},
     "output_type": "execute_result"
    }
   ],
   "source": [
    "{x for x in range(-5, 6)}"
   ]
  },
  {
   "cell_type": "code",
   "execution_count": 22,
   "id": "inside-scanner",
   "metadata": {},
   "outputs": [
    {
     "data": {
      "text/plain": [
       "[25, 16, 9, 4, 1, 0, 1, 4, 9, 16, 25]"
      ]
     },
     "execution_count": 22,
     "metadata": {},
     "output_type": "execute_result"
    }
   ],
   "source": [
    "[x ** 2 for x in range(-5, 6)]"
   ]
  },
  {
   "cell_type": "code",
   "execution_count": 23,
   "id": "subtle-carolina",
   "metadata": {},
   "outputs": [
    {
     "data": {
      "text/plain": [
       "{0, 1, 4, 9, 16, 25}"
      ]
     },
     "execution_count": 23,
     "metadata": {},
     "output_type": "execute_result"
    }
   ],
   "source": [
    "{x ** 2 for x in range(-5, 6)}"
   ]
  },
  {
   "cell_type": "code",
   "execution_count": 24,
   "id": "civilian-portland",
   "metadata": {},
   "outputs": [
    {
     "data": {
      "text/plain": [
       "{0, 1, 2, 3, 4, 5}"
      ]
     },
     "execution_count": 24,
     "metadata": {},
     "output_type": "execute_result"
    }
   ],
   "source": [
    "{x for x in range(-5, 6) if x >= 0}"
   ]
  },
  {
   "cell_type": "code",
   "execution_count": 25,
   "id": "adopted-circuit",
   "metadata": {},
   "outputs": [
    {
     "data": {
      "text/plain": [
       "{-4, -2, 0, 2, 4}"
      ]
     },
     "execution_count": 25,
     "metadata": {},
     "output_type": "execute_result"
    }
   ],
   "source": [
    "{x for x in range(-5, 6) if x % 2 == 0}"
   ]
  },
  {
   "cell_type": "code",
   "execution_count": 26,
   "id": "public-destiny",
   "metadata": {},
   "outputs": [],
   "source": [
    "set1 = {1, 2, 3, 4}\n",
    "set2 = {3, 4, 5, 10, 3, 5, 10, 3, 3}"
   ]
  },
  {
   "cell_type": "code",
   "execution_count": 27,
   "id": "adequate-offset",
   "metadata": {},
   "outputs": [
    {
     "data": {
      "text/plain": [
       "set"
      ]
     },
     "execution_count": 27,
     "metadata": {},
     "output_type": "execute_result"
    }
   ],
   "source": [
    "type(set1)"
   ]
  },
  {
   "cell_type": "code",
   "execution_count": 28,
   "id": "integrated-salon",
   "metadata": {},
   "outputs": [
    {
     "data": {
      "text/plain": [
       "{3, 4, 5, 10}"
      ]
     },
     "execution_count": 28,
     "metadata": {},
     "output_type": "execute_result"
    }
   ],
   "source": [
    "set2"
   ]
  },
  {
   "cell_type": "code",
   "execution_count": 29,
   "id": "moral-mirror",
   "metadata": {},
   "outputs": [
    {
     "data": {
      "text/plain": [
       "True"
      ]
     },
     "execution_count": 29,
     "metadata": {},
     "output_type": "execute_result"
    }
   ],
   "source": [
    "3 in set1"
   ]
  },
  {
   "cell_type": "code",
   "execution_count": 30,
   "id": "figured-warren",
   "metadata": {},
   "outputs": [
    {
     "data": {
      "text/plain": [
       "False"
      ]
     },
     "execution_count": 30,
     "metadata": {},
     "output_type": "execute_result"
    }
   ],
   "source": [
    "42 in set1"
   ]
  },
  {
   "cell_type": "code",
   "execution_count": 31,
   "id": "armed-shade",
   "metadata": {},
   "outputs": [
    {
     "data": {
      "text/plain": [
       "True"
      ]
     },
     "execution_count": 31,
     "metadata": {},
     "output_type": "execute_result"
    }
   ],
   "source": [
    "42 not in set1"
   ]
  },
  {
   "cell_type": "code",
   "execution_count": 32,
   "id": "fewer-country",
   "metadata": {},
   "outputs": [
    {
     "data": {
      "text/plain": [
       "{1, 2, 3, 4, 5, 10}"
      ]
     },
     "execution_count": 32,
     "metadata": {},
     "output_type": "execute_result"
    }
   ],
   "source": [
    "set1.union(set2)"
   ]
  },
  {
   "cell_type": "code",
   "execution_count": 33,
   "id": "exterior-break",
   "metadata": {},
   "outputs": [
    {
     "data": {
      "text/plain": [
       "{1, 2}"
      ]
     },
     "execution_count": 33,
     "metadata": {},
     "output_type": "execute_result"
    }
   ],
   "source": [
    "set1.difference(set2)"
   ]
  },
  {
   "cell_type": "code",
   "execution_count": 34,
   "id": "labeled-arthur",
   "metadata": {},
   "outputs": [
    {
     "data": {
      "text/plain": [
       "{5, 10}"
      ]
     },
     "execution_count": 34,
     "metadata": {},
     "output_type": "execute_result"
    }
   ],
   "source": [
    "set2.difference(set1)"
   ]
  },
  {
   "cell_type": "code",
   "execution_count": 35,
   "id": "independent-butter",
   "metadata": {},
   "outputs": [
    {
     "data": {
      "text/plain": [
       "{1, 2, 5, 10}"
      ]
     },
     "execution_count": 35,
     "metadata": {},
     "output_type": "execute_result"
    }
   ],
   "source": [
    "set1.symmetric_difference(set2)"
   ]
  },
  {
   "cell_type": "code",
   "execution_count": 36,
   "id": "prerequisite-kelly",
   "metadata": {},
   "outputs": [
    {
     "data": {
      "text/plain": [
       "{1, 2, 5, 10}"
      ]
     },
     "execution_count": 36,
     "metadata": {},
     "output_type": "execute_result"
    }
   ],
   "source": [
    "set2.symmetric_difference(set1)"
   ]
  },
  {
   "cell_type": "code",
   "execution_count": 37,
   "id": "biblical-concrete",
   "metadata": {},
   "outputs": [
    {
     "data": {
      "text/plain": [
       "{3, 4}"
      ]
     },
     "execution_count": 37,
     "metadata": {},
     "output_type": "execute_result"
    }
   ],
   "source": [
    "set1.intersection(set2)"
   ]
  },
  {
   "cell_type": "code",
   "execution_count": 38,
   "id": "grand-province",
   "metadata": {},
   "outputs": [],
   "source": [
    "x = np.linspace(-3, 5, 1000)"
   ]
  },
  {
   "cell_type": "code",
   "execution_count": 39,
   "id": "impressed-sustainability",
   "metadata": {},
   "outputs": [],
   "source": [
    "y = x ** 2 - 2 * x - 3"
   ]
  },
  {
   "cell_type": "code",
   "execution_count": 40,
   "id": "electoral-conversion",
   "metadata": {},
   "outputs": [
    {
     "data": {
      "image/png": "[encoded data removed]",
      "text/plain": [
       "<Figure size 432x288 with 1 Axes>"
      ]
     },
     "metadata": {
      "needs_background": "light"
     },
     "output_type": "display_data"
    }
   ],
   "source": [
    "plt.plot(x, y)\n",
    "plt.show()"
   ]
  },
  {
   "cell_type": "code",
   "execution_count": 41,
   "id": "infectious-benjamin",
   "metadata": {},
   "outputs": [],
   "source": [
    "y1 = 2 * x ** 3 - 5 * x + 8 "
   ]
  },
  {
   "cell_type": "code",
   "execution_count": 42,
   "id": "isolated-bibliography",
   "metadata": {},
   "outputs": [
    {
     "data": {
      "image/png": "[encoded data removed]",
      "text/plain": [
       "<Figure size 432x288 with 1 Axes>"
      ]
     },
     "metadata": {
      "needs_background": "light"
     },
     "output_type": "display_data"
    }
   ],
   "source": [
    "plt.plot(x, y1)\n",
    "plt.show()"
   ]
  },
  {
   "cell_type": "code",
   "execution_count": 43,
   "id": "frequent-closing",
   "metadata": {},
   "outputs": [],
   "source": [
    "x_circle = np.linspace(-1, 1, 1000)"
   ]
  },
  {
   "cell_type": "code",
   "execution_count": 44,
   "id": "vital-gospel",
   "metadata": {},
   "outputs": [],
   "source": [
    "y1_circle = np.sqrt(1 - x_circle ** 2)\n",
    "y2_circle = -np.sqrt(1 - x_circle ** 2)"
   ]
  },
  {
   "cell_type": "code",
   "execution_count": 45,
   "id": "atlantic-burst",
   "metadata": {},
   "outputs": [
    {
     "data": {
      "image/png": "[encoded data removed]",
      "text/plain": [
       "<Figure size 432x288 with 1 Axes>"
      ]
     },
     "metadata": {
      "needs_background": "light"
     },
     "output_type": "display_data"
    }
   ],
   "source": [
    "plt.plot(x_circle, y1_circle, c = \"r\")\n",
    "plt.plot(x_circle, y2_circle, c = \"r\")\n",
    "plt.gca().set_aspect(\"equal\")\n",
    "plt.show()"
   ]
  },
  {
   "cell_type": "code",
   "execution_count": 46,
   "id": "useful-simple",
   "metadata": {},
   "outputs": [],
   "source": [
    "z = complex(2, 3)"
   ]
  },
  {
   "cell_type": "code",
   "execution_count": 47,
   "id": "subjective-anatomy",
   "metadata": {},
   "outputs": [
    {
     "data": {
      "text/plain": [
       "2.0"
      ]
     },
     "execution_count": 47,
     "metadata": {},
     "output_type": "execute_result"
    }
   ],
   "source": [
    "z.real"
   ]
  },
  {
   "cell_type": "code",
   "execution_count": 48,
   "id": "threaded-institute",
   "metadata": {},
   "outputs": [
    {
     "data": {
      "text/plain": [
       "3.0"
      ]
     },
     "execution_count": 48,
     "metadata": {},
     "output_type": "execute_result"
    }
   ],
   "source": [
    "z.imag"
   ]
  },
  {
   "cell_type": "code",
   "execution_count": 49,
   "id": "contained-amsterdam",
   "metadata": {},
   "outputs": [
    {
     "data": {
      "text/plain": [
       "(2+3j)"
      ]
     },
     "execution_count": 49,
     "metadata": {},
     "output_type": "execute_result"
    }
   ],
   "source": [
    "z"
   ]
  },
  {
   "cell_type": "code",
   "execution_count": 50,
   "id": "given-legislation",
   "metadata": {},
   "outputs": [
    {
     "data": {
      "text/plain": [
       "(3+2j)"
      ]
     },
     "execution_count": 50,
     "metadata": {},
     "output_type": "execute_result"
    }
   ],
   "source": [
    "complex(3, 2)"
   ]
  },
  {
   "cell_type": "code",
   "execution_count": 51,
   "id": "medieval-orientation",
   "metadata": {},
   "outputs": [
    {
     "data": {
      "text/plain": [
       "(2+3j)"
      ]
     },
     "execution_count": 51,
     "metadata": {},
     "output_type": "execute_result"
    }
   ],
   "source": [
    "2 + 3j"
   ]
  },
  {
   "cell_type": "code",
   "execution_count": 52,
   "id": "willing-average",
   "metadata": {},
   "outputs": [
    {
     "data": {
      "text/plain": [
       "(3+2j)"
      ]
     },
     "execution_count": 52,
     "metadata": {},
     "output_type": "execute_result"
    }
   ],
   "source": [
    "3 + 2j"
   ]
  },
  {
   "cell_type": "code",
   "execution_count": 53,
   "id": "technological-ghana",
   "metadata": {},
   "outputs": [
    {
     "data": {
      "text/plain": [
       "False"
      ]
     },
     "execution_count": 53,
     "metadata": {},
     "output_type": "execute_result"
    }
   ],
   "source": [
    "2 + 3j == 3 + 2j"
   ]
  },
  {
   "cell_type": "code",
   "execution_count": 54,
   "id": "superb-letter",
   "metadata": {},
   "outputs": [],
   "source": [
    "def solve_complex_quadratic_equation(a, b, c):\n",
    "    D = b * b - 4 * a * c\n",
    "    print([(-b - cmath.sqrt(D)) / (2 * a), (-b + cmath.sqrt(D)) / (2 * a)])"
   ]
  },
  {
   "cell_type": "code",
   "execution_count": 55,
   "id": "southern-allowance",
   "metadata": {},
   "outputs": [
    {
     "name": "stdout",
     "output_type": "stream",
     "text": [
      "[0j, 0j]\n"
     ]
    }
   ],
   "source": [
    "solve_complex_quadratic_equation(1, 0, 0)"
   ]
  },
  {
   "cell_type": "code",
   "execution_count": 56,
   "id": "acknowledged-luther",
   "metadata": {},
   "outputs": [
    {
     "name": "stdout",
     "output_type": "stream",
     "text": [
      "[(-1+0j), (3+0j)]\n"
     ]
    }
   ],
   "source": [
    "solve_complex_quadratic_equation(1, -2, -3)"
   ]
  },
  {
   "cell_type": "code",
   "execution_count": 57,
   "id": "foster-oregon",
   "metadata": {},
   "outputs": [
    {
     "name": "stdout",
     "output_type": "stream",
     "text": [
      "[(1-1.4142135623730951j), (1+1.4142135623730951j)]\n"
     ]
    }
   ],
   "source": [
    "solve_complex_quadratic_equation(1, -2, 3)"
   ]
  },
  {
   "cell_type": "code",
   "execution_count": 58,
   "id": "diagnostic-shopping",
   "metadata": {},
   "outputs": [
    {
     "name": "stdout",
     "output_type": "stream",
     "text": [
      "[(-1.1438006807053138-0.04045831419934794j), (0.9130314499360829-0.8056955319544983j)]\n"
     ]
    }
   ],
   "source": [
    "solve_complex_quadratic_equation((3 + 2j), (-1 + 3j), (-5 + 0.5j))"
   ]
  }
 ],
 "metadata": {
  "kernelspec": {
   "display_name": "Python 3",
   "language": "python",
   "name": "python3"
  },
  "language_info": {
   "codemirror_mode": {
    "name": "ipython",
    "version": 3
   },
   "file_extension": ".py",
   "mimetype": "text/x-python",
   "name": "python",
   "nbconvert_exporter": "python",
   "pygments_lexer": "ipython3",
   "version": "3.7.9"
  }
 },
 "nbformat": 4,
 "nbformat_minor": 5
}
